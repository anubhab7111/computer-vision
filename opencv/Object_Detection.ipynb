{
 "cells": [
  {
   "cell_type": "markdown",
   "id": "8672116c-7c72-4b88-a60e-2ea6e5969a02",
   "metadata": {},
   "source": [
    "# Rapid Object Detection using a Boosted Cascade of Simple Features\n",
    "\n",
    "Processing images extremely rapidly and achieving high detection rates by 3 major factors:\n",
    "- Integral Image (allows the features used by our detectorts be computed very quickly)\n",
    "- AdaBoost (selects a small number of critical visual features)\n",
    "- Cascade (background regions of the image to be quickly discarded while computating regions"
   ]
  },
  {
   "cell_type": "markdown",
   "id": "a21f07b0-f813-4f7f-b2ad-4f2d850d8359",
   "metadata": {},
   "source": [
    "- Achieves high frame rates working only with the information present in a single grey scale image\n",
    "\n",
    "## Integral Image:\n",
    "Set of features which are reminiscent of Haar Basis functions\n"
   ]
  }
 ],
 "metadata": {
  "kernelspec": {
   "display_name": "Python 3 (ipykernel)",
   "language": "python",
   "name": "python3"
  },
  "language_info": {
   "codemirror_mode": {
    "name": "ipython",
    "version": 3
   },
   "file_extension": ".py",
   "mimetype": "text/x-python",
   "name": "python",
   "nbconvert_exporter": "python",
   "pygments_lexer": "ipython3",
   "version": "3.12.7"
  }
 },
 "nbformat": 4,
 "nbformat_minor": 5
}
